{
 "cells": [
  {
   "cell_type": "code",
   "execution_count": 1,
   "id": "9a5865f1",
   "metadata": {},
   "outputs": [],
   "source": [
    "import pandas as pd\n",
    "import numpy as np\n",
    "import requests\n",
    "from bs4 import BeautifulSoup"
   ]
  },
  {
   "cell_type": "code",
   "execution_count": 2,
   "id": "36886d17",
   "metadata": {},
   "outputs": [],
   "source": [
    "url = 'https://stats.espncricinfo.com/ci/engine/records/team/match_results.html?id=14450;type=tournament'"
   ]
  },
  {
   "cell_type": "code",
   "execution_count": 106,
   "id": "9464a98d",
   "metadata": {},
   "outputs": [],
   "source": [
    "final =[]\n",
    "try:\n",
    "    source = requests.get(url)\n",
    "    source.raise_for_status()\n",
    "    soup=BeautifulSoup(source.text,'html.parser')\n",
    "    \n",
    "    movies = soup.find('tbody').find_all('tr',class_='data1')\n",
    "    \n",
    "    for i in movies:\n",
    "        \n",
    "        team1 = i.find('td',class_='left').a.text\n",
    "        \n",
    "        team2 = i.find_all('td',class_='left')[1].text\n",
    "        \n",
    "        winner = i.find_all('td',class_='left')[2].text\n",
    "        \n",
    "        margin = i.find_all('td',class_='left')[3].text\n",
    "        \n",
    "        ground = i.find_all('td',class_='left')[4].text\n",
    "        \n",
    "        match_date = i.find_all('td')[5].text\n",
    "        \n",
    "        scorecard = i.find_all('td')[6].text\n",
    "        \n",
    "        final.append([team1,team2,winner,margin,ground,match_date,scorecard])\n",
    "        \n",
    "        \n",
    "        \n",
    "        \n",
    "    \n",
    "    \n",
    "except Exception as e:\n",
    "    print(e)\n",
    "    \n",
    "   "
   ]
  },
  {
   "cell_type": "code",
   "execution_count": 119,
   "id": "a2b8a4e5",
   "metadata": {},
   "outputs": [],
   "source": [
    "df=pd.DataFrame(final, columns=['team1','team2','winner','margin','ground','match_date','scorecard'])"
   ]
  },
  {
   "cell_type": "code",
   "execution_count": 121,
   "id": "57f199f7",
   "metadata": {},
   "outputs": [],
   "source": [
    "df.to_csv('match_result.csv')"
   ]
  },
  {
   "cell_type": "code",
   "execution_count": null,
   "id": "0e9b27d7",
   "metadata": {},
   "outputs": [],
   "source": []
  }
 ],
 "metadata": {
  "kernelspec": {
   "display_name": "Python 3 (ipykernel)",
   "language": "python",
   "name": "python3"
  },
  "language_info": {
   "codemirror_mode": {
    "name": "ipython",
    "version": 3
   },
   "file_extension": ".py",
   "mimetype": "text/x-python",
   "name": "python",
   "nbconvert_exporter": "python",
   "pygments_lexer": "ipython3",
   "version": "3.9.13"
  }
 },
 "nbformat": 4,
 "nbformat_minor": 5
}
